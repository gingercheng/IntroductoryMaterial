{
 "cells": [
  {
   "cell_type": "markdown",
   "metadata": {},
   "source": [
    "# Assignment 0: Jupyter Notebook Basics\n",
    "____\n",
    "\n",
    "** Template Header ** Please include the following information at the top of each assignment submission\n",
    "\n",
    "**GitHub User Name:**  freebird\n",
    "\n",
    "**Email:**\n",
    "\n",
    "____\n",
    "**Below is a simple introduction to Python through the Jupyter Notebook interface**"
   ]
  },
  {
   "cell_type": "markdown",
   "metadata": {},
   "source": [
    "A Jupyter notebook is a great way to learn python. To begin, it's best to go over the basics of how a notebook works.\n",
    "\n",
    "It is also the recommended format for assignments in PHYS 1600/2600 as it is easy to include code, written explanations and plots all in a single notebook file to submit. It is even easy to download a notebook file as a single pdf document if you want a hard copy. In fact, this will be the preferred way to submit assignments for PHYS 1600.\n",
    "\n",
    "There are a number of exercises distributed throughout this notebook for you to practice with. As you go through this notebook, make sure to run each of the cells consecutively, one after the other.. Click below to quickly move to each exercise.\n",
    "\n",
    "* [Exercise 0](#E0): Finding commands and getting help.\n",
    "* [Exercise 1](#E1): Variables and variable types.\n",
    "* [Exercise 2](#E2): Functions.\n",
    "* [Exercise 3](#E3): Lists.\n",
    "* [Exercise 4](#E4): For loops.\n",
    "* [Exercise 5](#E5): Loops and conditionals.\n",
    "* [Exercise 6](#E6): NumPy arrays.\n",
    "* [Exercise 7](#E7): Loading data , multidimensional NumPy arrays.\n",
    "* [Exercise 8](#E8): Numpy array functions.\n",
    "* [Exercise 9](#E9): Mutable and immutable data types.\n",
    "* [Exercise 10](#E10): Plotting data.\n",
    "\n",
    "## Notebook Structure\n",
    "\n",
    "If you do not see the toolbar at the top of the screen click **View** and then **Toggle Toolbar**.\n",
    "\n",
    "A notebook is divided up into many different cells. Some of the cells have regular text (like this one), but most of them are filled in with code like the one below.  The cells filled with code are an interface to a powerful python environment called the **ipython shell**. Try clicking on the cell below and press shift+enter.\n"
   ]
  },
  {
   "cell_type": "code",
   "execution_count": null,
   "metadata": {},
   "outputs": [],
   "source": [
    "print(\"Hello World\")"
   ]
  },
  {
   "cell_type": "markdown",
   "metadata": {},
   "source": [
    "* Pressing shift+enter will evaluate the cell. \n",
    "* To create a new cell: click on the + icon in the top of the toolbar, or Alt+enter (Windows/Linux) option+enter(MacOs) from within a cell. \n",
    "* Once you create the cell, you can move it's location with the up and down arrows on the toolbar. \n",
    "* To create a text field, like this one here, go to the drop down menu and change the newly created cell from Code to Markdown.\n",
    "\n",
    "Try creating a new cell below this one and run the same python command below."
   ]
  },
  {
   "cell_type": "markdown",
   "metadata": {},
   "source": [
    "### Markdown text\n",
    "You can bold to markdown text by surrounding a word with double \\*'s. e.g. \\*\\*Bold\\*\\* is evaluated to **Bold**.\n",
    "You can also create a header by starting a line with \\#. More \\#'s produce a smaller header. For example:\n",
    "\n",
    "Create section headers using the \\# symbol. The number of \\#'s defines the nesting level of the header i.e. \\#\\# This will evaluate to a sub header\n",
    "\n",
    "## This\n",
    "\n",
    "\n",
    "#### Math in Markdown\n",
    "\n",
    "Mathematical symbols can be included in markdown text using standard latex syntax, for example: \n",
    "$$\\int x^2 dx = 1/3x^3$$\n",
    "\n",
    "\n",
    "You can also double click on markdown text to see the hidden code behind it. Use the content of this notebook to learn more about markdown.\n"
   ]
  },
  {
   "cell_type": "markdown",
   "metadata": {},
   "source": [
    "# Python Basics\n",
    "___"
   ]
  },
  {
   "cell_type": "markdown",
   "metadata": {},
   "source": [
    "## Getting Help\n",
    "Jupyter Notebooks and the ipython shell offer a very simple way to get help. When working in the Notebook shell you are never really on your own. \n",
    "\n",
    "To pull up the help file for a given command, simply prepend that command with a question mark. \n",
    "\n",
    "The helpfile for a python object is called it's ''docstring'' and it will open when you run a cell with an object prepended by a question mark. More detailed information is available using the 'help' function. "
   ]
  },
  {
   "cell_type": "code",
   "execution_count": null,
   "metadata": {},
   "outputs": [],
   "source": [
    "? help"
   ]
  },
  {
   "cell_type": "code",
   "execution_count": null,
   "metadata": {},
   "outputs": [],
   "source": [
    "help()"
   ]
  },
  {
   "cell_type": "code",
   "execution_count": null,
   "metadata": {},
   "outputs": [],
   "source": [
    "help(sum)"
   ]
  },
  {
   "cell_type": "markdown",
   "metadata": {},
   "source": [
    "<a id='E0'></a>\n",
    "### Exercise 0\n",
    "\n",
    "If you are not sure of the name of a command, you can use the **tab complete** feature to help you out. Just start typing the first few letters of what you think the command might be and then press tab to pull of a list of potential commands. The combination of the \"?\" command, tab, and a few good guesses can take you a very long way. Try it out in the cell below, just start typing a few letters of a possible command and then press tab, (If no command starting with the letters you typed exists, than nothing will appear)."
   ]
  },
  {
   "cell_type": "code",
   "execution_count": null,
   "metadata": {},
   "outputs": [],
   "source": []
  },
  {
   "cell_type": "markdown",
   "metadata": {},
   "source": [
    "## Variables\n",
    "In python you will find yourself defining lots of variables. Variables can store many types of data. You have already seen one type, a string: \"Hello world\". A string is just a collection of text, the quotation marks define when it starts and stop. You can use either double or single quotation marks as long as you are consistent.\n",
    "\n",
    "Other types of variables are integers (1, 32, etc) and floats (real numbers 1.3, 1e10, etc). Try to evaluate the cell to define the variables and then print them."
   ]
  },
  {
   "cell_type": "code",
   "execution_count": null,
   "metadata": {},
   "outputs": [],
   "source": [
    "mystring = 'some text'\n",
    "myinteger = 234\n",
    "myfloat = 1.32\n",
    "\n",
    "# Use the print function to display a variable's value \n",
    "print(mystring)\n",
    "print(myinteger, myfloat)"
   ]
  },
  {
   "cell_type": "markdown",
   "metadata": {},
   "source": [
    "There are many operators you can apply to variables. Some common ones are addition (+), subtraction (-), multiplication (\\*), exponentiation (\\*\\* NOT ^), and division (/) as seen below. \n",
    "\n",
    "What happens when you add two strings? What about multiplying strings? A string with a float? A string with an integer? "
   ]
  },
  {
   "cell_type": "code",
   "execution_count": null,
   "metadata": {},
   "outputs": [],
   "source": [
    "mynewint = (myinteger + 2)*2\n",
    "mynewfloat = 2.0**2.0\n",
    "mynewstring = mystring + ' plus more text?'\n",
    "\n",
    "print(mynewint, mynewfloat)\n",
    "print(mynewstring)"
   ]
  },
  {
   "cell_type": "markdown",
   "metadata": {},
   "source": [
    "Python is typically very smart at mixing types of variables, e.g. adding a float and an integer will create a float. "
   ]
  },
  {
   "cell_type": "code",
   "execution_count": null,
   "metadata": {},
   "outputs": [],
   "source": [
    "print(2+2.3, 2.3/2)"
   ]
  },
  {
   "cell_type": "markdown",
   "metadata": {},
   "source": [
    "Another crucial variable class are boolean, or True/False values. If you test whether two values or variables are equal, using the operator **==**, it will return either True or False. Furthermore, you can test if a value is greater than, less than, greater than or equal to, or less than and equal to with the commands **>**, **<**, **>=**, **<=**"
   ]
  },
  {
   "cell_type": "code",
   "execution_count": null,
   "metadata": {},
   "outputs": [],
   "source": [
    "variable = True\n",
    "integer = 2\n",
    "\n",
    "print(variable)\n",
    "print(1 == 2)\n",
    "print(integer<3)\n",
    "print(integer>=2)"
   ]
  },
  {
   "cell_type": "markdown",
   "metadata": {},
   "source": [
    "<a id='E1'></a>\n",
    "### Exercise 1\n",
    "In the cell below, define two new integer variables. Add the two variables to define a third variable and print it.\n",
    "\n",
    "Mixing certain variable types can allow you to do some useful operations but mixing other variables types give an error. Try multiplying a string with an integer and print the result. Does it work for a float?\n",
    "\n"
   ]
  },
  {
   "cell_type": "code",
   "execution_count": null,
   "metadata": {},
   "outputs": [],
   "source": []
  },
  {
   "cell_type": "markdown",
   "metadata": {},
   "source": [
    "## Commenting \n",
    "\n",
    "It is good practice to leave comments throughout your code such that you (or someone else) can easily figure out what is going on. You can start a comment anywhere by inserting a **#** sign. Everything following **#** Python will ignore and not try to interpret as code."
   ]
  },
  {
   "cell_type": "code",
   "execution_count": null,
   "metadata": {},
   "outputs": [],
   "source": [
    "a = 1\n",
    "b = a + 1 #This is a comment\n",
    "#This is another comment\n",
    "#print(a)\n",
    "print(b)"
   ]
  },
  {
   "cell_type": "markdown",
   "metadata": {},
   "source": [
    "## Functions\n",
    "You will also find yourself using a lot of functions in python. `print` is an example of a python function. Functions take variables as inputs and perform some operation on them. The inputs are often called arguments.\n",
    "\n",
    "Some other useful examples are:  \n",
    "* `abs` returns the absolute value  \n",
    "* `int` changes a variable to an integer class (rounding down)  \n",
    "* `float` changes a variable to a float class  \n",
    "* `round` rounds a float to the number of digits specified  \n",
    "\n",
    "Note that some functions, like round, take more than one argument."
   ]
  },
  {
   "cell_type": "code",
   "execution_count": null,
   "metadata": {},
   "outputs": [],
   "source": [
    "a = abs(-1)\n",
    "b = int(1.9)\n",
    "c = float(1)\n",
    "d = round(1.23532,2)\n",
    "\n",
    "print(a, b, c, d)"
   ]
  },
  {
   "cell_type": "markdown",
   "metadata": {},
   "source": [
    "You can also define your own functions. Once you define a function , you can use it whenever you like (as long as you first run the cell containing the function).  \n",
    "\n",
    "Note the syntax, you begin with **def**, for define, then give the function name. In the parenthesis, you define the name of the arguments provided and end with a colon. \n",
    "\n",
    "The content of the function can be as long as you want. Python will include everything that begins with one indent in the definition. Once you finish doing what you want, you can return the result and end the indentation."
   ]
  },
  {
   "cell_type": "code",
   "execution_count": null,
   "metadata": {},
   "outputs": [],
   "source": [
    "def myfunction(var1, var2):\n",
    "    temp_variable = var1 + var2\n",
    "    out = temp_variable**2\n",
    "    return(out)\n",
    "\n",
    "result = myfunction(1,2)\n",
    "print(result)"
   ]
  },
  {
   "cell_type": "markdown",
   "metadata": {},
   "source": [
    "Functions can also return more than one variable by separating them with a comma, for instance:"
   ]
  },
  {
   "cell_type": "code",
   "execution_count": null,
   "metadata": {},
   "outputs": [],
   "source": [
    "def myfunction(var1, var2):\n",
    "    out1 = var1 + var2\n",
    "    out2 = var1 - var2\n",
    "    return(out1, out2)\n",
    "\n",
    "result1, result2 = myfunction(1,2)\n",
    "print(result1, result2)"
   ]
  },
  {
   "cell_type": "markdown",
   "metadata": {},
   "source": [
    "<a id='E2'></a>\n",
    "### Exercise 2\n",
    "In the cell below, define a function that averages three variables and test it."
   ]
  },
  {
   "cell_type": "code",
   "execution_count": null,
   "metadata": {},
   "outputs": [],
   "source": []
  },
  {
   "cell_type": "markdown",
   "metadata": {},
   "source": [
    "## Lists\n",
    "You can group variables together into a single object called a list. Lists are very important tools for handling data. For instance, using a list makes it simple to pass large amounts of data between programs with a single variable name. To retrieve a particular value from a list you must reference it's numerical position in the list, it's index, using square brackets. Note, in python the first element of a list is indexed at zero and the second at one, etc... the last element is then indexed at the size of the list minus 1."
   ]
  },
  {
   "cell_type": "code",
   "execution_count": null,
   "metadata": {},
   "outputs": [],
   "source": [
    "mylist = [1, 86, 32, 134, 12, 10]\n",
    "\n",
    "print(\"Full list:\",mylist)\n",
    "print(\"First value in list:\", mylist[0])\n",
    "print(\"Second value in list:\", mylist[1])"
   ]
  },
  {
   "cell_type": "markdown",
   "metadata": {},
   "source": [
    "Python also has more advanced indexing abilities. To index a list starting from the end, use `-1`. \n",
    "The colon notation can also be used to efficiently select "
   ]
  },
  {
   "cell_type": "code",
   "execution_count": null,
   "metadata": {},
   "outputs": [],
   "source": [
    "print(\"Last value in list:\", mylist[-1])"
   ]
  },
  {
   "cell_type": "markdown",
   "metadata": {},
   "source": [
    "To index a range of data, use a colon. i.e. `mylist[\\< start_index \\>:\\< stop_index \\>]`. Note that python uses `n-1` notation so that the `\\< stop_index \\>` is exclusive"
   ]
  },
  {
   "cell_type": "code",
   "execution_count": null,
   "metadata": {},
   "outputs": [],
   "source": [
    "print(mylist[1:3])\n",
    "print(mylist[2:-1])\n",
    "print(mylist[2:]) # because the stop_index is exclusive, it must be omitted to index to the end of the list"
   ]
  },
  {
   "cell_type": "markdown",
   "metadata": {},
   "source": [
    "It is also easy to select all values of a list with an index that is an integer multiple of a given step size using the notation:\n",
    "\n",
    "`mylist[\\< start_index \\>:\\< stop_index \\>:\\< step_size \\>]`\n",
    "\n",
    "i.e. to select every 2nd element of mylist use"
   ]
  },
  {
   "cell_type": "code",
   "execution_count": null,
   "metadata": {},
   "outputs": [],
   "source": [
    "print(mylist[0::2])"
   ]
  },
  {
   "cell_type": "markdown",
   "metadata": {},
   "source": [
    "There are several useful functions that operate on or create lists:  \n",
    "* `len` returns the length of the list  \n",
    "* `max` returns the maximum value in the list  \n",
    "* `min` returns the smallest value in the list  \n",
    "* `sorted` sorts a list  \n",
    "* `range` creates a range of data  "
   ]
  },
  {
   "cell_type": "code",
   "execution_count": null,
   "metadata": {},
   "outputs": [],
   "source": [
    "print('List length: ', len(mylist))\n",
    "print('List max: ', max(mylist))\n",
    "print('List min: ', min(mylist))\n",
    "print('Sorted: ', sorted(mylist))"
   ]
  },
  {
   "cell_type": "markdown",
   "metadata": {},
   "source": [
    "Also arithmetic operators might work differently than you expect. Take a look at the cell below. What do you expect the output to be? Now run the cell, are you surprised by the output?"
   ]
  },
  {
   "cell_type": "code",
   "execution_count": null,
   "metadata": {},
   "outputs": [],
   "source": [
    "a = mylist+[1,2]\n",
    "b = mylist*2\n",
    "\n",
    "print(a)\n",
    "print(b)"
   ]
  },
  {
   "cell_type": "markdown",
   "metadata": {},
   "source": [
    "This strange behavior of lists can be very useful in some cases, but can make numerical work using lists tricky. i.e. to multiply each element of a list by a common factor, we have to actually multiply each element independently. This seems, and in many cases is, very cumbersome. Below we will indroduce a new more intuitive an powerful type of list called a numpy array. Numpy arrays are extremely useful objects for numerical computing and will be used much more extensively than lists in PHYS 1600.\n",
    "\n",
    "Try multiplying a list by itself. Does it work?"
   ]
  },
  {
   "cell_type": "code",
   "execution_count": null,
   "metadata": {},
   "outputs": [],
   "source": []
  },
  {
   "cell_type": "markdown",
   "metadata": {},
   "source": [
    "<a id='E3'></a>\n",
    "### Exercise 3\n",
    "Below is the code to generate a list of 20 random numbers between 0 and 999. First, using the functions `min` and `max`, find the largest and smallest values of the list.\n",
    "\n",
    "Second, using the `sorted` command and list indexing, find the same two (largest and smallest) values. *Remember, you can always prepend a \"?\" to figure out how to use any command*.\n",
    "\n",
    "\n",
    "Finally, create a new list containing only the *odd index** values of the first list.\n"
   ]
  },
  {
   "cell_type": "code",
   "execution_count": null,
   "metadata": {},
   "outputs": [],
   "source": [
    "import random \n",
    "#this command loads a new module, we will talk about this below\n",
    "\n",
    "randomlist = random.sample(range(1000),10)\n",
    "#random.sample() is a function from the random package\n",
    "#it takes two arguments\n",
    "#first is a list from which values are sampled\n",
    "#second is how many values are sampled from this list\n",
    "\n",
    "print(randomlist)"
   ]
  },
  {
   "cell_type": "code",
   "execution_count": null,
   "metadata": {},
   "outputs": [],
   "source": []
  },
  {
   "cell_type": "markdown",
   "metadata": {},
   "source": [
    "## Conditional Statements\n",
    "\n",
    "There are several key structures available in designing a python script. The `if` statement allows the programmer to add logic to the program flow. If the condition fed to `if` is true, then  Python will continue to evaluate whatever following is indented"
   ]
  },
  {
   "cell_type": "code",
   "execution_count": null,
   "metadata": {},
   "outputs": [],
   "source": [
    "#starting the first if statement\n",
    "if(2==2):\n",
    "    print('That was true')\n",
    "    \n",
    "#starting the second if statement    \n",
    "if(1==2):\n",
    "    print('That was false')"
   ]
  },
  {
   "cell_type": "markdown",
   "metadata": {},
   "source": [
    "You can also link together multiple `if` statements with `elif` (else if) and finish with a final catch all condition, `else`. For example:"
   ]
  },
  {
   "cell_type": "code",
   "execution_count": null,
   "metadata": {},
   "outputs": [],
   "source": [
    "x = 2\n",
    "\n",
    "#starting an if, else statement\n",
    "if(x == 1):\n",
    "    print('One')\n",
    "else:\n",
    "    print('Not one')\n",
    "\n",
    "\n",
    "#starting an if, elif, else statement\n",
    "if(x == 1):\n",
    "    print('One')\n",
    "elif(x == 2):\n",
    "    print('Two')\n",
    "else:\n",
    "    print('Neither 1 nor 2')\n"
   ]
  },
  {
   "cell_type": "markdown",
   "metadata": {},
   "source": [
    "## For Loops\n",
    "\n",
    "Another essential tool is the **for** loop. You feed a **for** loop a variable, **i** in this case, and a list. The beginning of the loop is designated by a colon. At first, the variable **i** is assigned the first value in the list. Then everything that is indented is executed at every iteration of the loop.\n",
    "\n",
    "Once the end of the indented code is reached, the loop restarts and **i** changes to the second value in the list and so forth."
   ]
  },
  {
   "cell_type": "code",
   "execution_count": null,
   "metadata": {},
   "outputs": [],
   "source": [
    "#defining a list to loop over\n",
    "variables = ['hello','how','are','you']\n",
    "\n",
    "#starting a for loop, assigning each variable to i one at a time\n",
    "for i in variables:\n",
    "    #starting inside the loop\n",
    "    print(i)\n",
    "    #after i is printed, the loop will rerun for the next variable"
   ]
  },
  {
   "cell_type": "markdown",
   "metadata": {},
   "source": [
    "<a id='E4'></a>\n",
    "### Exercise  4\n",
    "The `range(start,stop)` command is very useful for constructing loops. Read the helpfile on `range` and use a `for` loop with `range` to compute the following sum $$\\sum_{k=1}^{k=100} \\frac{1}{2^k}, $$\n",
    "where k is an integer."
   ]
  },
  {
   "cell_type": "code",
   "execution_count": null,
   "metadata": {},
   "outputs": [],
   "source": []
  },
  {
   "cell_type": "markdown",
   "metadata": {},
   "source": [
    "A few useful controls are also available for loops, in particular the commands `continue` and `break`. `continue` is basically a statement that causes the loop to skip the rest and go to the next iteration of the loop, for instance consider this loop that calculates the square root:"
   ]
  },
  {
   "cell_type": "code",
   "execution_count": null,
   "metadata": {},
   "outputs": [],
   "source": [
    "for i in [1, 4, -9, 16]:\n",
    "    if(i<0): \n",
    "        #if i is negative, it will be skipped\n",
    "        print('Continue and skip ', i)\n",
    "        continue\n",
    "    \n",
    "    #if i is NOT negative, we will calculate the square root\n",
    "    print(i**(0.5))"
   ]
  },
  {
   "cell_type": "markdown",
   "metadata": {},
   "source": [
    "Another control statement, `break` will abort the for loop and stop any further iteration. Compare the difference below"
   ]
  },
  {
   "cell_type": "code",
   "execution_count": null,
   "metadata": {},
   "outputs": [],
   "source": [
    "for i in [1, 4, -9, 16]:\n",
    "    if(i<=0): \n",
    "        #if i is negative, we will abort the loop\n",
    "        print('Break at ', i)\n",
    "        break\n",
    "    \n",
    "    print(i**(0.5))"
   ]
  },
  {
   "cell_type": "markdown",
   "metadata": {},
   "source": [
    "<a id='E5'></a>\n",
    "### Exercise 5\n",
    "Below I defined a custom function to check if an integer is even. The operator **%** is the modulus operator. \n",
    "\n",
    "Loop through a range of integers from 0 to 20 and use the function to test if the integer is even or not. If the value is even, append it to the list output, but if the value is odd append it times 10.\n",
    "\n",
    "Hint, to append a number to a *list like* output, use the syntax:\n",
    "`output = output + [number]`\n",
    "     \n"
   ]
  },
  {
   "cell_type": "code",
   "execution_count": null,
   "metadata": {
    "scrolled": true
   },
   "outputs": [],
   "source": [
    "def iseven(x):\n",
    "    return x % 2 == 0\n",
    "\n",
    "print(iseven(22))\n",
    "print(iseven(21))\n",
    "\n",
    "output = []"
   ]
  },
  {
   "cell_type": "markdown",
   "metadata": {},
   "source": [
    "# NumPy Basics: Numerical Tools for Python\n",
    "\n",
    "In addition to Python's many useful default functions, there are extra toolboxes (called modules) full of useful functions and variable types. In science and engineering we are usually analyzing numerical data and there is a helpful python module for numerical analysis called **NumPy**. The numpy module contains many functions for loading, manipulating, and analyzing simulation data as arrays, vectors, and matrices.\n",
    "\n",
    "In order to get started we need to **load up the numpy module**. We do this executing the cell below."
   ]
  },
  {
   "cell_type": "code",
   "execution_count": 3,
   "metadata": {},
   "outputs": [],
   "source": [
    "import numpy as np\n",
    "# the part \"as np\" just assigns np as an alias to numpy, you could replace np with almost anything, or just omit and use:\n",
    "# import numpy\n",
    "# but then your would have to type numpy all the time!"
   ]
  },
  {
   "cell_type": "markdown",
   "metadata": {},
   "source": [
    "This command imported the numpy module and gave it the shorter nick-name \"**np**\". Python has a huge number of modules to help with pretty much any task you can think of. It is also possible to write your own custom modules (or customize existing ones). Much of the power of Python comes from the functionality contained in modules and most of your programs will have some sort of import statement at the top. We will spend some more time on `import` statements in lecture 2."
   ]
  },
  {
   "cell_type": "markdown",
   "metadata": {},
   "source": [
    "Once we have run the `import` command in the cell above, we can use any of numpy's various functions by typing:\n",
    "\n",
    "`np.function_name(function_argument)`\n",
    "\n",
    "For example, numpy has a bunch of extra mathematical functions not included in the base Python:"
   ]
  },
  {
   "cell_type": "code",
   "execution_count": null,
   "metadata": {},
   "outputs": [],
   "source": [
    "x = np.sin(.3)\n",
    "y = np.cos(0.5)\n",
    "z = np.arctan(.8)\n",
    "print(x,y,z)"
   ]
  },
  {
   "cell_type": "markdown",
   "metadata": {},
   "source": [
    "You probably recognize the `sin`, `cos`, and `arctan` functions. Numpy also contains most other common mathematical functions: `np.log()`, `np.exp()`, etc. In a Jupyter Notebook you can see all the different tools numpy has by typing `np.` in a code cell and pressing tab to pull up a list of possibilities. You can also learn much more about NumPy on the website: http://docs.scipy.org/doc/numpy/. I recommend you read this at some time"
   ]
  },
  {
   "cell_type": "markdown",
   "metadata": {},
   "source": [
    "## Defining Numpy Arrays"
   ]
  },
  {
   "cell_type": "markdown",
   "metadata": {},
   "source": [
    "The main functionality in Numpy is it's ability to work on vectors and matrices of numbers, or NumPy arrays. NumPy array's are similar to lists, but are specifically designed for working with numbers and have lots of extra tools built into analyze data. NumPy array's are especially useful for dealing with multidimensional datasets. \n",
    "\n",
    "There are several NumPy functions that can be used to create NumPy arrays and converting python lists into NumPy arrays. Here are some useful examples."
   ]
  },
  {
   "cell_type": "markdown",
   "metadata": {},
   "source": [
    "`np.array()` converts a python list into a NumPy array:"
   ]
  },
  {
   "cell_type": "code",
   "execution_count": null,
   "metadata": {},
   "outputs": [],
   "source": [
    "# Here is a list of numbers\n",
    "alist = [2,31,5,6,3]\n",
    "print(alist)\n",
    "\n",
    "# np.array converts it to a numpy array\n",
    "np.array(alist)"
   ]
  },
  {
   "cell_type": "markdown",
   "metadata": {},
   "source": [
    "If you have a list of lists, `np.array` will make it a multidimensional array:"
   ]
  },
  {
   "cell_type": "code",
   "execution_count": null,
   "metadata": {},
   "outputs": [],
   "source": [
    "mylist = [[1,2],[3,4]]\n",
    "myarray = np.array(mylist)\n",
    "myarray"
   ]
  },
  {
   "cell_type": "markdown",
   "metadata": {},
   "source": [
    "We will discuss multidimensional arrays much  more in the future."
   ]
  },
  {
   "cell_type": "markdown",
   "metadata": {},
   "source": [
    "Additionally, other functions exist that create a numpy array. `np.arange()` can be used to compute an array of integers. Its syntax is `np.arange(start,stop,interval)`. *Note that in python the `stop` index is not included.*"
   ]
  },
  {
   "cell_type": "code",
   "execution_count": null,
   "metadata": {},
   "outputs": [],
   "source": [
    "# First ten integers, starting from 0\n",
    "a = np.arange(10)\n",
    "\n",
    "# Integers starting from 2 until 8\n",
    "b = np.arange(2,9)\n",
    "\n",
    "# Integers starting from 100, going until 15, steps of  -5\n",
    "c = np.arange(100,10,-5)\n",
    "\n",
    "print(a)\n",
    "print(b)\n",
    "print(c)"
   ]
  },
  {
   "cell_type": "markdown",
   "metadata": {},
   "source": [
    "<a id='E6'></a>\n",
    "### Exercise 6\n",
    "\n",
    "1. Read the helpfile for the function `np.ones`. Use this function to create an new numpy array with 10 ones.\n",
    "2. Multiply your array by a constant. Does this operation behave how you expect?\n",
    "3. Add a constant value to your array. Does this operation do what you expect?\n",
    "4. Using `np.arange` generate a new array with the same size as the array from part 1. Add these two arrays together.\n",
    "4. Now multiply the two arrays. "
   ]
  },
  {
   "cell_type": "code",
   "execution_count": null,
   "metadata": {},
   "outputs": [],
   "source": []
  },
  {
   "cell_type": "markdown",
   "metadata": {},
   "source": [
    "## Loading Data Files into Numpy Arrays"
   ]
  },
  {
   "cell_type": "markdown",
   "metadata": {},
   "source": [
    "Some times we will run simulations or experiments that output some data to text files. If we would like to analyze those results with python then first we need to import the data from the text files. Luckily, numpy has several useful functions to do this, including `np.loadtxt`.\n",
    "\n",
    "For simple text files of data arranged in columns, you can use the `np.loadtxt` function to load the data file. The text file named *data* contains three columns of numbers from some simulated experimental data. Lets use `np.loadtxt` to load this data so it can be manipulated with python. The function has a single required argument: a string with the location of the file you want it to read."
   ]
  },
  {
   "cell_type": "code",
   "execution_count": null,
   "metadata": {},
   "outputs": [],
   "source": [
    "#This string is the location of my data file\n",
    "#Replace it with the location of your data file\n",
    "filepath = './DataFile.txt' \n",
    "\n",
    "#if you are having trouble finding your working directory\n",
    "#uncomment the following two lines and they should tell you where you are on your computer\n",
    "#import os\n",
    "#print(os.getcwd())\n",
    "#Note!!! All slashes need to be / NOT \\\n",
    "#If you are Windows be sure to change them\n",
    "\n",
    "np.loadtxt(filepath)\n",
    "\n"
   ]
  },
  {
   "cell_type": "markdown",
   "metadata": {},
   "source": [
    "You can see that `loadtxt` loaded the data into Python and returned it as output. The file is really long, so NumPy knows not to show the entire dataset, but instead to only show the first three rows and the last three rows.\n",
    "\n",
    "When we loaded the text, we never saved it to an object we can work with. We only printed it. So now let's do that again, but assign the data to a variable **D**."
   ]
  },
  {
   "cell_type": "code",
   "execution_count": null,
   "metadata": {},
   "outputs": [],
   "source": [
    "D = np.loadtxt(filepath)"
   ]
  },
  {
   "cell_type": "markdown",
   "metadata": {},
   "source": [
    "The data in **D** is stored as a NumPy Array. "
   ]
  },
  {
   "cell_type": "markdown",
   "metadata": {},
   "source": [
    "## Indexing NumPy Arrays\n",
    "\n",
    "Lets start by learning more about the data stored in **D**.\n",
    "\n",
    "We can use the function `np.shape` to find out the shape of our data array"
   ]
  },
  {
   "cell_type": "code",
   "execution_count": null,
   "metadata": {},
   "outputs": [],
   "source": [
    "np.shape(D)"
   ]
  },
  {
   "cell_type": "markdown",
   "metadata": {},
   "source": [
    "Shape says the data we've imported has 100000 rows and 3 columns. Open up your text file in your favorite text editor and see if that looks right to you.\n"
   ]
  },
  {
   "cell_type": "markdown",
   "metadata": {},
   "source": [
    "You can access individual data values in a numpy array by indexing it, similar to how you index a list. However, numpy arrays are usually multidimensional (rows, columns, etc), so they require multidimension indexing. This involves specifiying an index for each dimension of your array. Our data array **D** is two dimensional. It has 100000 rows and 3 columns. Below are some examples indexing **D**."
   ]
  },
  {
   "cell_type": "code",
   "execution_count": null,
   "metadata": {},
   "outputs": [],
   "source": [
    "# To index the nth row in the mth column we use the notation D[n,m]\n",
    "# So for instance, the number in the first row of the first column is \n",
    "a = D[0,0]\n",
    "\n",
    "# The number in the first row of the third column is\n",
    "b = D[0,2]\n",
    "\n",
    "# The number in the 1000 row and second column is\n",
    "c = D[999,1]\n",
    "\n",
    "print(a, b, c)"
   ]
  },
  {
   "cell_type": "markdown",
   "metadata": {},
   "source": [
    "You can use `:` to select ranges of data (note, the `:` notation also works for regular Python lists)\n",
    "\n",
    "The colon syntax is `[first:last]`.\n",
    "* `first` specifies the beginning of the range you want to copy. If `first` isn't specified, the beginning of that dimension is used.\n",
    "* `last` specifies the end of the range you want to copy. The number with index `last` is not included. If `last` isn't specified, the end of that dimension is used.\n",
    "* A bare `:` will take all the data in that dimension\n",
    "\n",
    "Below are some examples."
   ]
  },
  {
   "cell_type": "code",
   "execution_count": null,
   "metadata": {},
   "outputs": [],
   "source": [
    "# All the rows of the first column\n",
    "a = D[:,0]\n",
    "\n",
    "# All the columns of the 7001st row\n",
    "b = D[7000,:]\n",
    "\n",
    "# The first 5 rows of the second column\n",
    "c = D[:5,1]\n",
    "\n",
    "print(a)\n",
    "print(b)\n",
    "print(c)"
   ]
  },
  {
   "cell_type": "markdown",
   "metadata": {},
   "source": [
    "<a id='E7'></a>\n",
    "### Exercise 7\n",
    "\n",
    "Each column of the numpy array **D** is a variable from the data set you loaded. Use array indexing to store each column of **D** in its own variable.\n",
    "\n",
    "* Store all the rows of the first column of **D** in a variable named **x**\n",
    "* Store all the rows of the second column in a variable named **y**\n",
    "* store all the rows of the third column in a variable named **error**"
   ]
  },
  {
   "cell_type": "code",
   "execution_count": null,
   "metadata": {},
   "outputs": [],
   "source": []
  },
  {
   "cell_type": "markdown",
   "metadata": {},
   "source": [
    "## Array functions\n",
    "\n",
    "Common mathematical operations work differently on NumPy arrays than they would on a normal Python list. Operations like addition and multiplication work element-wise mathematically, for example:"
   ]
  },
  {
   "cell_type": "code",
   "execution_count": null,
   "metadata": {},
   "outputs": [],
   "source": [
    "array = np.array([1,2,3,4])\n",
    "\n",
    "print(array*2)\n",
    "print(array+2)"
   ]
  },
  {
   "cell_type": "markdown",
   "metadata": {},
   "source": [
    "NumPy also has a bunch of functions already implemented that operate on a NumPy array. For example, the **np.min** and **np.max** functions will give the smallest and largest values in the array."
   ]
  },
  {
   "cell_type": "code",
   "execution_count": null,
   "metadata": {},
   "outputs": [],
   "source": [
    "timestep = D[:,0]\n",
    "\n",
    "mymin = np.min(timestep)\n",
    "mymax = np.max(timestep)\n",
    "\n",
    "print(\"Min:\", mymin)\n",
    "print(\"Max:\", mymax)"
   ]
  },
  {
   "cell_type": "markdown",
   "metadata": {},
   "source": [
    "#### Some usefull functions for statistical analysis\n",
    "\n",
    "Numpy has many more array functions for data analysis. An especially useful set compute basic statistics:\n",
    "\n",
    " * `np.mean()` computes the mean of numerical data\n",
    " * `np.std()` computes the standard deviation\n",
    " * `np.var()` computes the variance\n",
    "\n",
    "All these functions work similarly to `np.min` and `np.max`. "
   ]
  },
  {
   "cell_type": "markdown",
   "metadata": {},
   "source": [
    "<a id='E8'></a>\n",
    "### Exercise 8\n",
    "Generate a numpy array any way you like. Get some practice using array functions. \n",
    "\n",
    " 1. Use `np.mean` to compute the mean Y and save it as the variable **Ymean**\n",
    " 2. Compute an array of all the Y values squared, save this as Ysq       (remember, Python calculates powers with the notation **\\*\\***)\n",
    " 3. Calculate the mean of `Ysq`, save it as **Ymnsq**\n",
    " 4. Calculate the variance with the equation: **Ymnsq - Ymean<sup>2</sup>**\n",
    " 5. Compare the result to that calculated with the `np.var` function "
   ]
  },
  {
   "cell_type": "code",
   "execution_count": null,
   "metadata": {},
   "outputs": [],
   "source": []
  },
  {
   "cell_type": "markdown",
   "metadata": {},
   "source": [
    "## Assigning and copying data in python\n",
    "\n",
    "In Python, all objects are classified as either **mutable** or **immutable**. Understanding this distinction is important as it is a common source of confusion for those who are new to python.\n",
    "\n",
    "- **Mutable objects**: an object that can be changed after created. For example lists, numpy arrays, dictionaries etc ...\n",
    "\n",
    "- **Immutable objects**: an object whose value cannot be changed after the object has been created. For example int, float, complex, and tuple data types.\n",
    "\n",
    "You must be careful when copying **immutable** objects in python."
   ]
  },
  {
   "cell_type": "markdown",
   "metadata": {},
   "source": [
    "<a id='E9'></a>\n",
    "### Exercise 9\n",
    "\n",
    "The python function `id()`, returns the identity of an object as a **unique integer** which specifies the objects location in the computer memory. We will use this function to explore immutable and mutable objects. Run each of the cells below in order. Before running each cell, think about what you expect the output to be and write your guess down as a comment in the cell"
   ]
  },
  {
   "cell_type": "code",
   "execution_count": null,
   "metadata": {},
   "outputs": [],
   "source": [
    "a = 2\n",
    "b = a\n",
    "print('b = ', b)\n",
    "print('a = ', a)\n",
    "\n",
    "# Output guess\n",
    "#  a = \n",
    "#  b ="
   ]
  },
  {
   "cell_type": "markdown",
   "metadata": {},
   "source": [
    "Do you expect `id(a)` to be the same as, or different from `id(b)`?\n"
   ]
  },
  {
   "cell_type": "code",
   "execution_count": null,
   "metadata": {},
   "outputs": [],
   "source": [
    "# Output guess. Same or different?\n",
    "print('id a:', id(a))\n",
    "print('id b:', id(b))"
   ]
  },
  {
   "cell_type": "markdown",
   "metadata": {},
   "source": [
    "What does the above output mean about the way python stores variables?\n",
    "What do you think the output from the cell below will be?"
   ]
  },
  {
   "cell_type": "code",
   "execution_count": null,
   "metadata": {},
   "outputs": [],
   "source": [
    "b = 4\n",
    "a = 4.0\n",
    "print('b = ', b, ' \\t id: ', id(b))\n",
    "print('a = ', a, '\\t id: ', id(a))\n",
    "\n",
    "# Output guess\n",
    "#  a =         id: some number\n",
    "#  b =         id: same as above or different?"
   ]
  },
  {
   "cell_type": "markdown",
   "metadata": {},
   "source": [
    "Why is this result different from the previous cell?\n",
    "\n",
    "\n",
    "Now we will repeat the same steps but using lists"
   ]
  },
  {
   "cell_type": "code",
   "execution_count": null,
   "metadata": {},
   "outputs": [],
   "source": [
    "a = [1,2,3]\n",
    "b = a\n",
    "\n",
    "print('a = ', a, '\\t id: ', id(a))\n",
    "print('b = ', b, '\\t id: ', id(b))\n",
    "\n",
    "# Output guess\n",
    "#  a =         id:\n",
    "#  b =         id: "
   ]
  },
  {
   "cell_type": "code",
   "execution_count": null,
   "metadata": {},
   "outputs": [],
   "source": [
    "\n",
    "b[0] = 1301081\n",
    "\n",
    "print('a = ', a, '\\t id: ', id(a))\n",
    "print('b = ', b, '\\t id: ', id(b))\n",
    "\n",
    "# Output guess\n",
    "#  a =         id:\n",
    "#  b =         id: "
   ]
  },
  {
   "cell_type": "markdown",
   "metadata": {},
   "source": [
    "Does this output seem strange to you?  \n",
    "\n",
    "For mutable objects the variable name, in this case `a` and `b` is just a pointer to some location in memory. The line `b=a` didn't create a new list that is a copy of `a`, it just created a second pointer or \"name\" for the list. Although this may seem like a strange behavior it is often helpful, and is much more efficient than keeping many copies of the same thing in memory.\n",
    "\n",
    "But, sometimes we do want to copy data in lists or arrays. How can we do this?\n",
    "\n",
    "Guess the output of the cell below before running."
   ]
  },
  {
   "cell_type": "code",
   "execution_count": null,
   "metadata": {},
   "outputs": [],
   "source": [
    "a = [4,5,6]\n",
    "b = 1*a\n",
    "c = a[:]\n",
    "b[0] = 1301081\n",
    "c[0] = 179426549\n",
    "\n",
    "print('a = ', a, '\\t id: ', id(a))\n",
    "print('b = ', b, '\\t id: ', id(b))\n",
    "print('c = ', c, '\\t id: ', id(c))\n",
    "\n",
    "# Output guess\n",
    "#  a =         id:\n",
    "#  b =         id: \n",
    "#  c =         id: "
   ]
  },
  {
   "cell_type": "markdown",
   "metadata": {},
   "source": [
    "Lists and arrays are mutable objects so we must be careful when making copies and performing operations. To learn more about copying objects in python, load the `copy` module i.e. run \n",
    "\n",
    "        import copy\n",
    "        \n",
    "and read over the help files."
   ]
  },
  {
   "cell_type": "code",
   "execution_count": null,
   "metadata": {},
   "outputs": [],
   "source": []
  },
  {
   "cell_type": "markdown",
   "metadata": {},
   "source": [
    "# Basics of MatPlotLib: Plotting\n",
    "___\n",
    "\n",
    "We've learned some basic tools for importing and manipulating numerical data with Numpy. Next we will learn how to plot and visualize data. The plotting tools we will use are part of a python module called MatPlotLib, short for MatLab Plot Library, since most of its tools and capabilities are based off of plotting with the program MatLab. You can learn much more about MatPlotLib here: http://matplotlib.org/.\n",
    "\n",
    "\n",
    "In order to get started, we need to import the plotting tools from the MatPlotLib module and also tell our Jupyter Notebook how we want it to make plots. We'll need to run the two commands in the next cell:"
   ]
  },
  {
   "cell_type": "code",
   "execution_count": 1,
   "metadata": {},
   "outputs": [],
   "source": [
    "import matplotlib.pylab as plt\n",
    "%matplotlib inline"
   ]
  },
  {
   "cell_type": "markdown",
   "metadata": {},
   "source": [
    "The first command imports the MatPlotLib plotting tools and gives the module the alias **plt** \n",
    "\n",
    "\n",
    "***Note***: **plt** is the standard nickname people use for the MatPlotLib plotting tools. Many modules have community-created standard nicknames like **np** for numpy or **plt** for matplotlib.pylab. You don't have to use these nicknames, anything you like will do. You could for instance import numpy as \"tomato\" and type **tomato.loadtxt()** to call the loadtxt function. However, using the standard names is recommended and will help others in the community understand your code. \n",
    "\n",
    "The second command tells the Jupyter notebook that when we use a plotting command, the Notebook should visualize the plots right inside our notebook. Jupyter has other plot visualization settings, but we will stick with these for now."
   ]
  },
  {
   "cell_type": "markdown",
   "metadata": {},
   "source": [
    "## Plotting Data With the *plt.plot()* Function\n",
    "\n",
    "The workhorse function of MatPlotLib is the **plot()** function that you can call as **plt.plot()**. You can enter it just like that, with no arguments and it will generate an empty plot:"
   ]
  },
  {
   "cell_type": "code",
   "execution_count": null,
   "metadata": {},
   "outputs": [],
   "source": [
    "plt.plot()"
   ]
  },
  {
   "cell_type": "markdown",
   "metadata": {},
   "source": [
    "We can plot data by giving the function x and y data as arguements: **plt.plot(xdata, ydata)**\n",
    "\n",
    "The x and y data can be python lists or numpy arrays."
   ]
  },
  {
   "cell_type": "code",
   "execution_count": 4,
   "metadata": {},
   "outputs": [
    {
     "data": {
      "text/plain": [
       "[<matplotlib.lines.Line2D at 0x7f5c7116dda0>]"
      ]
     },
     "execution_count": 4,
     "metadata": {},
     "output_type": "execute_result"
    },
    {
     "data": {
      "image/png": "[encoded data removed]",
      "text/plain": [
       "<Figure size 432x288 with 1 Axes>"
      ]
     },
     "metadata": {
      "needs_background": "light"
     },
     "output_type": "display_data"
    }
   ],
   "source": [
    "# Make and plot some x,y data as python lists:\n",
    "x1 = [0,1,2,3,4,5,6]\n",
    "y1 = [0,2,0,6,3,9,12]\n",
    "plt.plot(x1,y1)\n",
    "\n",
    "#Make a numpy array of x values from 0 to 6 with spacings of 0.1\n",
    "x2 = np.arange(0,6, 0.1)\n",
    "#Compute y data as the sin of the x data\n",
    "y2 = np.sin(x2)\n",
    "plt.plot(x2,y2)"
   ]
  },
  {
   "cell_type": "markdown",
   "metadata": {},
   "source": [
    "Notice that both plot commands were plotted on the same figure."
   ]
  },
  {
   "cell_type": "markdown",
   "metadata": {},
   "source": [
    "## Adding Text to the Plot"
   ]
  },
  {
   "cell_type": "markdown",
   "metadata": {},
   "source": [
    "You can add a legend by using the **plt.legend()** function. Before you add a legend, you need to make sure you give each of the curves you've plotted *labels*. You give your curves labels by using the *label* keyword in the **plt.plot()** function. For instance:"
   ]
  },
  {
   "cell_type": "code",
   "execution_count": null,
   "metadata": {},
   "outputs": [],
   "source": [
    "#Plot data\n",
    "plt.plot(x1,y1,label='Random values')\n",
    "plt.plot(x2,y2,label='Sin(x)')\n",
    "plt.legend()"
   ]
  },
  {
   "cell_type": "markdown",
   "metadata": {},
   "source": [
    "You can change the font size of the legend by using the *fontsize* keyword in **plt.legend()**, e.g., **plt.legend(fontsize = 20)**.\n",
    "\n",
    "You can add axis labels and a title to the plot with: **plt.xlabel()**, **plt.ylabel()**, and **plt.title()** (and can use the **fontsize** keyword to adjust the font size)"
   ]
  },
  {
   "cell_type": "code",
   "execution_count": null,
   "metadata": {},
   "outputs": [],
   "source": [
    "#Plot data\n",
    "plt.plot(x1,y1,label='Random values')\n",
    "plt.plot(x2,y2,label='Sin(x)')\n",
    "plt.legend()\n",
    "plt.xlabel('My x-axis label')\n",
    "plt.ylabel('My y-axis label')\n",
    "plt.title('My Figure Title', fontsize = 20)"
   ]
  },
  {
   "cell_type": "markdown",
   "metadata": {},
   "source": [
    "## Saving Figures"
   ]
  },
  {
   "cell_type": "markdown",
   "metadata": {},
   "source": [
    "You can save your figure to a file using the **plt.savefig()** function. The arguement of the function is the name of the file you want it to save your plot to. MatPlotLib can recognize most common file formats like .png, .jpeg, .pdf.\n",
    "\n",
    "    plt.savefig('my_first_plot.png')"
   ]
  },
  {
   "cell_type": "code",
   "execution_count": null,
   "metadata": {},
   "outputs": [],
   "source": [
    "plt.plot(x1,y1)\n",
    "plt.savefig('myplot.jpeg')"
   ]
  },
  {
   "cell_type": "markdown",
   "metadata": {},
   "source": [
    "# Extra Plot Customization Tools\n",
    "\n",
    "## Modifying Curve Attributes\n",
    "You can pass many different optional keywords to the plot function to modify how your data is visualized. These keywords can change the color, thickness,transparency, order, and shape of curves and symbols, as well as many other things. The syntax for passing optional arguements is:\n",
    "```Python\n",
    "plt.plot(xdata,ydata,keyword = value,another_keyword = value,...)\n",
    "```\n",
    "\n",
    "Here are some commonly used keywords:\n",
    "\n",
    "* **color** = 'black', 'blue', 'red', etc\n",
    "* **linewidth** = a number\n",
    "* **linestyle** = 'none', ‘solid’, ‘dashed’, ‘dashdot’, ‘dotted’\n",
    "* **marker** = 'o', 'v', '^', '.', 's', etc \n",
    "* **markersize** = a number\n",
    "* **markerfacecolor**\n",
    "* **label** = 'Data Name'  (This name appears in the plots legend)\n",
    "\n",
    "Here are some examples:"
   ]
  },
  {
   "cell_type": "code",
   "execution_count": 6,
   "metadata": {},
   "outputs": [
    {
     "data": {
      "text/plain": [
       "[<matplotlib.lines.Line2D at 0x7f5c70ffe400>]"
      ]
     },
     "execution_count": 6,
     "metadata": {},
     "output_type": "execute_result"
    },
    {
     "data": {
      "image/png": "[encoded data removed]",
      "text/plain": [
       "<Figure size 432x288 with 1 Axes>"
      ]
     },
     "metadata": {
      "needs_background": "light"
     },
     "output_type": "display_data"
    }
   ],
   "source": [
    "# Use np.linspace to generate x data from 0 to 4*pi\n",
    "x = np.arange(0,4*np.pi,0.4)\n",
    "\n",
    "#Generate a few different sets of y data\n",
    "y1 = np.sin(x)\n",
    "y2 = 0.8*np.cos(x)\n",
    "y3 = 2-0.2*x\n",
    "\n",
    "#A solid, black line with red, circular markers.\n",
    "plt.plot(x,y1,color='black',linestyle='solid',marker='o',markerfacecolor='red')\n",
    "#A thick dot-dashed, magenta line with no markers \n",
    "plt.plot(x,y2,color='magenta',linewidth=2,linestyle='dashdot')\n",
    "# Green, downward pointing triangles with no line connecting them\n",
    "plt.plot(x,y3,marker='v',color='green',linestyle='none')"
   ]
  },
  {
   "cell_type": "markdown",
   "metadata": {},
   "source": [
    "## Modifying Plot Attributes\n",
    "\n",
    "In addition to using the **plt.plot()** function to add data to our plot, there are several other useful functions that we can use to modify the plots attributes. Here is how you can adjust the most commonly modified plot properties:\n",
    "\n",
    "### Adjusting the x and y limits of the plot\n",
    "\n",
    "To adjust limits use the **plt.xlim()** and **plt.ylim()** functions. The functions take two arguements, the upper and lower bounds of the plot: \n",
    "\n",
    "    plt.xlim(xlo,xhi)\n",
    "    plt.ylim(ylo,yhi)\n",
    "\n",
    "where xlo and xhi are both numbers."
   ]
  },
  {
   "cell_type": "code",
   "execution_count": null,
   "metadata": {},
   "outputs": [],
   "source": [
    "#plot the data\n",
    "plt.plot(x,y1,color='black',linewidth=3,linestyle='solid',marker='o',markersize=6, markerfacecolor='red')\n",
    "#adjust x and y range\n",
    "plt.xlim(0,4)\n",
    "plt.ylim(-0.2,1.1)"
   ]
  },
  {
   "cell_type": "markdown",
   "metadata": {},
   "source": [
    "## Legend Customization\n",
    "You can also change the location of the legend by using the *loc* keyword. Here is the syntax:\n",
    "\n",
    "    plt.legend(loc = 0 or 1 or 2 or 3 or 4 or ..., fontsize = 18 or another number) \n",
    "    \n",
    "The location of the legend will move depending on which number you assign to the *loc* keyword. Try changing the location of the legend int he plot below."
   ]
  },
  {
   "cell_type": "code",
   "execution_count": 7,
   "metadata": {},
   "outputs": [
    {
     "data": {
      "text/plain": [
       "<matplotlib.legend.Legend at 0x7f5c70f632e8>"
      ]
     },
     "execution_count": 7,
     "metadata": {},
     "output_type": "execute_result"
    },
    {
     "data": {
      "image/png": "[encoded data removed]",
      "text/plain": [
       "<Figure size 432x288 with 1 Axes>"
      ]
     },
     "metadata": {
      "needs_background": "light"
     },
     "output_type": "display_data"
    }
   ],
   "source": [
    "#Plot data\n",
    "y1 = 1- 2*np.random.rand(len(x))\n",
    "plt.plot(x,y1,label='Random values')\n",
    "plt.plot(x,y2,label='Sin(x)')\n",
    "plt.legend()"
   ]
  },
  {
   "cell_type": "markdown",
   "metadata": {},
   "source": [
    "<a id='E10'></a>\n",
    "### Exercise 10\n",
    "\n",
    "Read the helpfile on the function `np.errorbar` and use it to generate a plot using the data from [Exercise 7](#E7). Include axis labels and try playing around with the plot formatting."
   ]
  },
  {
   "cell_type": "code",
   "execution_count": null,
   "metadata": {},
   "outputs": [],
   "source": []
  }
 ],
 "metadata": {
  "anaconda-cloud": {},
  "kernelspec": {
   "display_name": "Python 3",
   "language": "python",
   "name": "python3"
  },
  "language_info": {
   "codemirror_mode": {
    "name": "ipython",
    "version": 3
   },
   "file_extension": ".py",
   "mimetype": "text/x-python",
   "name": "python",
   "nbconvert_exporter": "python",
   "pygments_lexer": "ipython3",
   "version": "3.6.7"
  }
 },
 "nbformat": 4,
 "nbformat_minor": 2
}
